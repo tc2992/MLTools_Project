{
 "cells": [
  {
   "cell_type": "code",
   "execution_count": 17,
   "metadata": {},
   "outputs": [],
   "source": [
    "import numpy as np\n",
    "from sklearn.ensemble import RandomForestClassifier\n",
    "from sklearn.ensemble import GradientBoostingClassifier\n",
    "from sklearn.ensemble import RandomForestRegressor\n",
    "from sklearn.linear_model import LogisticRegression\n",
    "from sklearn.neural_network import MLPClassifier\n",
    "from Learners import *\n",
    "from econml.grf import RegressionForest\n",
    "from sklearn.metrics import mean_squared_error\n",
    "import matplotlib.pyplot as plt\n",
    "from sklearn.linear_model import LinearRegression\n",
    "import time"
   ]
  },
  {
   "cell_type": "markdown",
   "metadata": {},
   "source": [
    "### Data"
   ]
  },
  {
   "cell_type": "code",
   "execution_count": 2,
   "metadata": {},
   "outputs": [
    {
     "data": {
      "text/html": [
       "<div>\n",
       "<style scoped>\n",
       "    .dataframe tbody tr th:only-of-type {\n",
       "        vertical-align: middle;\n",
       "    }\n",
       "\n",
       "    .dataframe tbody tr th {\n",
       "        vertical-align: top;\n",
       "    }\n",
       "\n",
       "    .dataframe thead th {\n",
       "        text-align: right;\n",
       "    }\n",
       "</style>\n",
       "<table border=\"1\" class=\"dataframe\">\n",
       "  <thead>\n",
       "    <tr style=\"text-align: right;\">\n",
       "      <th></th>\n",
       "      <th>sex</th>\n",
       "      <th>yob</th>\n",
       "      <th>g2000</th>\n",
       "      <th>g2002</th>\n",
       "      <th>g2004</th>\n",
       "      <th>p2000</th>\n",
       "      <th>p2002</th>\n",
       "      <th>p2004</th>\n",
       "      <th>treatment</th>\n",
       "      <th>cluster</th>\n",
       "      <th>voted</th>\n",
       "      <th>hh_id</th>\n",
       "      <th>hh_size</th>\n",
       "      <th>numberofnames</th>\n",
       "      <th>p2004_mean</th>\n",
       "      <th>g2004_mean</th>\n",
       "    </tr>\n",
       "  </thead>\n",
       "  <tbody>\n",
       "    <tr>\n",
       "      <th>0</th>\n",
       "      <td>male</td>\n",
       "      <td>1941</td>\n",
       "      <td>yes</td>\n",
       "      <td>yes</td>\n",
       "      <td>yes</td>\n",
       "      <td>no</td>\n",
       "      <td>yes</td>\n",
       "      <td>No</td>\n",
       "      <td>Civic Duty</td>\n",
       "      <td>1</td>\n",
       "      <td>No</td>\n",
       "      <td>1.0</td>\n",
       "      <td>2</td>\n",
       "      <td>21</td>\n",
       "      <td>0.095238</td>\n",
       "      <td>0.857143</td>\n",
       "    </tr>\n",
       "    <tr>\n",
       "      <th>1</th>\n",
       "      <td>female</td>\n",
       "      <td>1947</td>\n",
       "      <td>yes</td>\n",
       "      <td>yes</td>\n",
       "      <td>yes</td>\n",
       "      <td>no</td>\n",
       "      <td>yes</td>\n",
       "      <td>No</td>\n",
       "      <td>Civic Duty</td>\n",
       "      <td>1</td>\n",
       "      <td>No</td>\n",
       "      <td>1.0</td>\n",
       "      <td>2</td>\n",
       "      <td>21</td>\n",
       "      <td>0.095238</td>\n",
       "      <td>0.857143</td>\n",
       "    </tr>\n",
       "    <tr>\n",
       "      <th>2</th>\n",
       "      <td>male</td>\n",
       "      <td>1951</td>\n",
       "      <td>yes</td>\n",
       "      <td>yes</td>\n",
       "      <td>yes</td>\n",
       "      <td>no</td>\n",
       "      <td>yes</td>\n",
       "      <td>No</td>\n",
       "      <td>Hawthorne</td>\n",
       "      <td>1</td>\n",
       "      <td>Yes</td>\n",
       "      <td>2.0</td>\n",
       "      <td>3</td>\n",
       "      <td>21</td>\n",
       "      <td>0.047619</td>\n",
       "      <td>0.857143</td>\n",
       "    </tr>\n",
       "    <tr>\n",
       "      <th>3</th>\n",
       "      <td>female</td>\n",
       "      <td>1950</td>\n",
       "      <td>yes</td>\n",
       "      <td>yes</td>\n",
       "      <td>yes</td>\n",
       "      <td>no</td>\n",
       "      <td>yes</td>\n",
       "      <td>No</td>\n",
       "      <td>Hawthorne</td>\n",
       "      <td>1</td>\n",
       "      <td>Yes</td>\n",
       "      <td>2.0</td>\n",
       "      <td>3</td>\n",
       "      <td>21</td>\n",
       "      <td>0.047619</td>\n",
       "      <td>0.857143</td>\n",
       "    </tr>\n",
       "    <tr>\n",
       "      <th>4</th>\n",
       "      <td>female</td>\n",
       "      <td>1982</td>\n",
       "      <td>yes</td>\n",
       "      <td>yes</td>\n",
       "      <td>yes</td>\n",
       "      <td>no</td>\n",
       "      <td>yes</td>\n",
       "      <td>No</td>\n",
       "      <td>Hawthorne</td>\n",
       "      <td>1</td>\n",
       "      <td>Yes</td>\n",
       "      <td>2.0</td>\n",
       "      <td>3</td>\n",
       "      <td>21</td>\n",
       "      <td>0.047619</td>\n",
       "      <td>0.857143</td>\n",
       "    </tr>\n",
       "  </tbody>\n",
       "</table>\n",
       "</div>"
      ],
      "text/plain": [
       "      sex   yob g2000 g2002 g2004 p2000 p2002 p2004    treatment  cluster  \\\n",
       "0    male  1941   yes   yes   yes    no   yes    No   Civic Duty        1   \n",
       "1  female  1947   yes   yes   yes    no   yes    No   Civic Duty        1   \n",
       "2    male  1951   yes   yes   yes    no   yes    No    Hawthorne        1   \n",
       "3  female  1950   yes   yes   yes    no   yes    No    Hawthorne        1   \n",
       "4  female  1982   yes   yes   yes    no   yes    No    Hawthorne        1   \n",
       "\n",
       "  voted  hh_id  hh_size  numberofnames  p2004_mean  g2004_mean  \n",
       "0    No    1.0        2             21    0.095238    0.857143  \n",
       "1    No    1.0        2             21    0.095238    0.857143  \n",
       "2   Yes    2.0        3             21    0.047619    0.857143  \n",
       "3   Yes    2.0        3             21    0.047619    0.857143  \n",
       "4   Yes    2.0        3             21    0.047619    0.857143  "
      ]
     },
     "execution_count": 2,
     "metadata": {},
     "output_type": "execute_result"
    }
   ],
   "source": [
    "import pandas as pd\n",
    "df=pd.read_csv('data.csv',index_col=False)\n",
    "df.head()"
   ]
  },
  {
   "cell_type": "code",
   "execution_count": 3,
   "metadata": {},
   "outputs": [],
   "source": [
    "df.loc[df['sex']=='male', 'sex']=0\n",
    "df.loc[df['sex']=='female', 'sex']=1\n",
    "df['age']=2019-df['yob']\n",
    "for item in ['g2000','g2002','p2000','p2002','p2004','voted']:\n",
    "    df.loc[df[item]=='yes', item]=1\n",
    "    df.loc[df[item]=='Yes', item]=1\n",
    "    df.loc[df[item]=='no', item]=0\n",
    "    df.loc[df[item]=='No', item]=0"
   ]
  },
  {
   "cell_type": "code",
   "execution_count": 4,
   "metadata": {},
   "outputs": [],
   "source": [
    "# Neighbors\n",
    "df = df[(df['treatment']==' Control') | (df['treatment']==' Neighbors')]\n",
    "df.loc[df['treatment']==' Control', 'treatment']=0\n",
    "df.loc[df['treatment']==' Neighbors', 'treatment']=1"
   ]
  },
  {
   "cell_type": "code",
   "execution_count": 5,
   "metadata": {},
   "outputs": [
    {
     "data": {
      "text/html": [
       "<div>\n",
       "<style scoped>\n",
       "    .dataframe tbody tr th:only-of-type {\n",
       "        vertical-align: middle;\n",
       "    }\n",
       "\n",
       "    .dataframe tbody tr th {\n",
       "        vertical-align: top;\n",
       "    }\n",
       "\n",
       "    .dataframe thead th {\n",
       "        text-align: right;\n",
       "    }\n",
       "</style>\n",
       "<table border=\"1\" class=\"dataframe\">\n",
       "  <thead>\n",
       "    <tr style=\"text-align: right;\">\n",
       "      <th></th>\n",
       "      <th>sex</th>\n",
       "      <th>yob</th>\n",
       "      <th>g2000</th>\n",
       "      <th>g2002</th>\n",
       "      <th>g2004</th>\n",
       "      <th>p2000</th>\n",
       "      <th>p2002</th>\n",
       "      <th>p2004</th>\n",
       "      <th>treatment</th>\n",
       "      <th>cluster</th>\n",
       "      <th>voted</th>\n",
       "      <th>hh_id</th>\n",
       "      <th>hh_size</th>\n",
       "      <th>numberofnames</th>\n",
       "      <th>p2004_mean</th>\n",
       "      <th>g2004_mean</th>\n",
       "      <th>age</th>\n",
       "    </tr>\n",
       "  </thead>\n",
       "  <tbody>\n",
       "    <tr>\n",
       "      <th>5</th>\n",
       "      <td>0</td>\n",
       "      <td>1981</td>\n",
       "      <td>0</td>\n",
       "      <td>0</td>\n",
       "      <td>yes</td>\n",
       "      <td>0</td>\n",
       "      <td>0</td>\n",
       "      <td>0</td>\n",
       "      <td>0</td>\n",
       "      <td>1</td>\n",
       "      <td>0</td>\n",
       "      <td>3.0</td>\n",
       "      <td>3</td>\n",
       "      <td>21</td>\n",
       "      <td>0.047619</td>\n",
       "      <td>0.904762</td>\n",
       "      <td>38</td>\n",
       "    </tr>\n",
       "    <tr>\n",
       "      <th>6</th>\n",
       "      <td>1</td>\n",
       "      <td>1959</td>\n",
       "      <td>1</td>\n",
       "      <td>1</td>\n",
       "      <td>yes</td>\n",
       "      <td>0</td>\n",
       "      <td>1</td>\n",
       "      <td>0</td>\n",
       "      <td>0</td>\n",
       "      <td>1</td>\n",
       "      <td>1</td>\n",
       "      <td>3.0</td>\n",
       "      <td>3</td>\n",
       "      <td>21</td>\n",
       "      <td>0.047619</td>\n",
       "      <td>0.904762</td>\n",
       "      <td>60</td>\n",
       "    </tr>\n",
       "    <tr>\n",
       "      <th>7</th>\n",
       "      <td>0</td>\n",
       "      <td>1956</td>\n",
       "      <td>1</td>\n",
       "      <td>1</td>\n",
       "      <td>yes</td>\n",
       "      <td>0</td>\n",
       "      <td>1</td>\n",
       "      <td>0</td>\n",
       "      <td>0</td>\n",
       "      <td>1</td>\n",
       "      <td>1</td>\n",
       "      <td>3.0</td>\n",
       "      <td>3</td>\n",
       "      <td>21</td>\n",
       "      <td>0.047619</td>\n",
       "      <td>0.904762</td>\n",
       "      <td>63</td>\n",
       "    </tr>\n",
       "    <tr>\n",
       "      <th>8</th>\n",
       "      <td>1</td>\n",
       "      <td>1968</td>\n",
       "      <td>0</td>\n",
       "      <td>0</td>\n",
       "      <td>yes</td>\n",
       "      <td>0</td>\n",
       "      <td>1</td>\n",
       "      <td>0</td>\n",
       "      <td>0</td>\n",
       "      <td>1</td>\n",
       "      <td>0</td>\n",
       "      <td>4.0</td>\n",
       "      <td>2</td>\n",
       "      <td>21</td>\n",
       "      <td>0.047619</td>\n",
       "      <td>0.904762</td>\n",
       "      <td>51</td>\n",
       "    </tr>\n",
       "    <tr>\n",
       "      <th>9</th>\n",
       "      <td>0</td>\n",
       "      <td>1967</td>\n",
       "      <td>1</td>\n",
       "      <td>1</td>\n",
       "      <td>yes</td>\n",
       "      <td>0</td>\n",
       "      <td>1</td>\n",
       "      <td>0</td>\n",
       "      <td>0</td>\n",
       "      <td>1</td>\n",
       "      <td>0</td>\n",
       "      <td>4.0</td>\n",
       "      <td>2</td>\n",
       "      <td>21</td>\n",
       "      <td>0.047619</td>\n",
       "      <td>0.904762</td>\n",
       "      <td>52</td>\n",
       "    </tr>\n",
       "  </tbody>\n",
       "</table>\n",
       "</div>"
      ],
      "text/plain": [
       "  sex   yob g2000 g2002 g2004 p2000 p2002 p2004 treatment  cluster voted  \\\n",
       "5   0  1981     0     0   yes     0     0     0         0        1     0   \n",
       "6   1  1959     1     1   yes     0     1     0         0        1     1   \n",
       "7   0  1956     1     1   yes     0     1     0         0        1     1   \n",
       "8   1  1968     0     0   yes     0     1     0         0        1     0   \n",
       "9   0  1967     1     1   yes     0     1     0         0        1     0   \n",
       "\n",
       "   hh_id  hh_size  numberofnames  p2004_mean  g2004_mean  age  \n",
       "5    3.0        3             21    0.047619    0.904762   38  \n",
       "6    3.0        3             21    0.047619    0.904762   60  \n",
       "7    3.0        3             21    0.047619    0.904762   63  \n",
       "8    4.0        2             21    0.047619    0.904762   51  \n",
       "9    4.0        2             21    0.047619    0.904762   52  "
      ]
     },
     "execution_count": 5,
     "metadata": {},
     "output_type": "execute_result"
    }
   ],
   "source": [
    "df.head()"
   ]
  },
  {
   "cell_type": "code",
   "execution_count": 6,
   "metadata": {},
   "outputs": [],
   "source": [
    "X=np.array(df[['sex','age','g2000','g2002','p2000','p2002','p2004']], dtype=np.int)\n",
    "y=np.array(df['voted'],dtype=np.int)\n",
    "treatment=np.array(df['treatment'],dtype=np.int)"
   ]
  },
  {
   "cell_type": "code",
   "execution_count": 7,
   "metadata": {},
   "outputs": [
    {
     "name": "stdout",
     "output_type": "stream",
     "text": [
      "(38201, 7) (191243, 7)\n"
     ]
    }
   ],
   "source": [
    "print(X[treatment==1].shape,X[treatment==0].shape)"
   ]
  },
  {
   "cell_type": "code",
   "execution_count": 8,
   "metadata": {},
   "outputs": [
    {
     "data": {
      "text/plain": [
       "0.16649378497585468"
      ]
     },
     "execution_count": 8,
     "metadata": {},
     "output_type": "execute_result"
    }
   ],
   "source": [
    "38201/(191243+38201)"
   ]
  },
  {
   "cell_type": "markdown",
   "metadata": {},
   "source": [
    "### Figure 2"
   ]
  },
  {
   "cell_type": "code",
   "execution_count": 51,
   "metadata": {},
   "outputs": [],
   "source": [
    "from copy import deepcopy\n",
    "def get_ci(learner):\n",
    "    learner_ = deepcopy(learner)\n",
    "    cate_mean=learner_.get_cate(X,y, treatment)\n",
    "    \n",
    "    idx0=np.where(treatment==0)[0]\n",
    "    idx1=np.where(treatment==1)[0]\n",
    "    cate_ = []\n",
    "    B=100\n",
    "    for i in range(B):\n",
    "        sam0 = random.choices(idx0,k=len(idx0))\n",
    "        sam1 = random.choices(idx1,k=len(idx1))\n",
    "        Xtrain = np.concatenate((X[sam0],X[sam1]),axis=0)\n",
    "        ytrain = np.concatenate((y[sam0],y[sam1]),axis=0)\n",
    "        ttrain = np.concatenate((treatment[sam0],treatment[sam1]),axis=0)\n",
    "    \n",
    "        learner_ = deepcopy(learner)\n",
    "        cate_.append(learner_.get_cate(Xtrain,ytrain, ttrain))\n",
    "        \n",
    "    cate_ = np.array(cate_)\n",
    "    cate_std = np.std(cate_, axis=0)\n",
    "    CI_upper = cate_mean+1.96*cate_std\n",
    "    CI_lower = cate_mean-1.96*cate_std\n",
    "    return cate_mean, CI_lower, CI_upper"
   ]
  },
  {
   "cell_type": "code",
   "execution_count": null,
   "metadata": {},
   "outputs": [],
   "source": [
    "mean_x, lower_x, upper_x = get_ci(learner=BaseXClassifier(learner=RegressionForest(), cate_learner=RegressionForest(), type_=1))"
   ]
  },
  {
   "cell_type": "code",
   "execution_count": 44,
   "metadata": {},
   "outputs": [],
   "source": [
    "mean_t, lower_t, upper_t = get_ci(learner=BaseTClassifier(learner0=RegressionForest(), learner1=RegressionForest(), type_=1))"
   ]
  },
  {
   "cell_type": "code",
   "execution_count": 52,
   "metadata": {},
   "outputs": [],
   "source": [
    "mean_s, lower_s, upper_s = get_ci(learner=BaseSClassifier(learner=RegressionForest(), type_=1))"
   ]
  },
  {
   "cell_type": "code",
   "execution_count": 34,
   "metadata": {},
   "outputs": [
    {
     "data": {
      "text/plain": [
       "True"
      ]
     },
     "execution_count": 34,
     "metadata": {},
     "output_type": "execute_result"
    }
   ],
   "source": [
    "df['group']=df['g2000']+df['g2002']+df['p2000']+df['p2002']+df['p2004']\n",
    "df = df.reset_index()\n",
    "g0idx = df.loc[df['group']==0].index\n",
    "g1idx = df.loc[df['group']==1].index\n",
    "g2idx = df.loc[df['group']==2].index\n",
    "g3idx = df.loc[df['group']==3].index\n",
    "g4idx = df.loc[df['group']==4].index\n",
    "g5idx = df.loc[df['group']==5].index\n",
    "len(g5idx)+len(g4idx)+len(g3idx)+len(g2idx)+len(g1idx)+len(g0idx)==len(X)"
   ]
  },
  {
   "cell_type": "code",
   "execution_count": 35,
   "metadata": {},
   "outputs": [],
   "source": [
    "def plot_fig2(cate, lower, upper):\n",
    "    #Find  the percentage of voters for which the predicted CATE is significantly positive\n",
    "    pos = [len([ele for ele in lower[g0idx] if ele > 0]) / len(g0idx),\n",
    "           len([ele for ele in lower[g1idx] if ele > 0]) / len(g1idx),\n",
    "           len([ele for ele in lower[g2idx] if ele > 0]) / len(g2idx),\n",
    "           len([ele for ele in lower[g3idx] if ele > 0]) / len(g3idx),\n",
    "           len([ele for ele in lower[g4idx] if ele > 0]) / len(g4idx),\n",
    "           len([ele for ele in lower[g5idx] if ele > 0]) / len(g5idx)]\n",
    "    #Find  the percentage of voters for which the predicted CATE is significantly negative\n",
    "    neg = [-len([ele for ele in upper[g0idx] if ele < 0]) / len(g0idx),\n",
    "           -len([ele for ele in upper[g1idx] if ele < 0]) / len(g1idx),\n",
    "           -len([ele for ele in upper[g2idx] if ele < 0]) / len(g2idx),\n",
    "           -len([ele for ele in upper[g3idx] if ele < 0]) / len(g3idx),\n",
    "           -len([ele for ele in upper[g4idx]if ele < 0]) / len(g4idx),\n",
    "           -len([ele for ele in upper[g5idx] if ele < 0]) / len(g5idx)]\n",
    "    #The width of each group is proportional to the size of the group\n",
    "    sizes=[len(g0idx),len(g1idx),len(g2idx),len(g3idx),len(g4idx),len(g5idx)]\n",
    "    fig, ax = plt.subplots(2)\n",
    "    ax[0].set_ylabel('Voter Proportion')\n",
    "    ax[1].set_ylabel('CATE')\n",
    "    ax[1].set_xlabel('Cumulative Voting History')\n",
    "    #ax[1].set_xticks(np.arange(6))\n",
    "    ax[0].bar(np.arange(6),pos, width=sizes/np.sum(sizes)*2, color='b', bottom=[0,0,0,0,0,0])\n",
    "    ax[0].bar(np.arange(6),neg, width=sizes/np.sum(sizes)*2, color='r')\n",
    "    ax[1].boxplot(np.array([cate[g0idx],cate[g1idx],cate[g2idx],cate[g3idx],cate[g4idx],cate[g5idx]]),showfliers=False,widths=sizes/np.sum(sizes)*2)\n",
    "    ax[0].axhline(y=0.0, color='black', linestyle='-')\n",
    "    ax[1].axhline(y=0.0, color='black', linestyle='-')"
   ]
  },
  {
   "cell_type": "code",
   "execution_count": 47,
   "metadata": {},
   "outputs": [
    {
     "name": "stderr",
     "output_type": "stream",
     "text": [
      "/usr/local/stow/python-3.6/lib/python3.6/site-packages/ipykernel_launcher.py:25: VisibleDeprecationWarning: Creating an ndarray from ragged nested sequences (which is a list-or-tuple of lists-or-tuples-or ndarrays with different lengths or shapes) is deprecated. If you meant to do this, you must specify 'dtype=object' when creating the ndarray\n"
     ]
    },
    {
     "data": {
      "image/png": "[encoded data removed]",
      "text/plain": [
       "<Figure size 432x288 with 2 Axes>"
      ]
     },
     "metadata": {
      "needs_background": "light"
     },
     "output_type": "display_data"
    }
   ],
   "source": [
    "plot_fig2(mean_x, lower_x, upper_x)"
   ]
  },
  {
   "cell_type": "code",
   "execution_count": 50,
   "metadata": {},
   "outputs": [
    {
     "name": "stderr",
     "output_type": "stream",
     "text": [
      "/usr/local/stow/python-3.6/lib/python3.6/site-packages/ipykernel_launcher.py:25: VisibleDeprecationWarning: Creating an ndarray from ragged nested sequences (which is a list-or-tuple of lists-or-tuples-or ndarrays with different lengths or shapes) is deprecated. If you meant to do this, you must specify 'dtype=object' when creating the ndarray\n"
     ]
    },
    {
     "data": {
      "image/png": "[encoded data removed]",
      "text/plain": [
       "<Figure size 432x288 with 2 Axes>"
      ]
     },
     "metadata": {
      "needs_background": "light"
     },
     "output_type": "display_data"
    }
   ],
   "source": [
    "plot_fig2(mean_t, lower_t, upper_t)"
   ]
  },
  {
   "cell_type": "code",
   "execution_count": 53,
   "metadata": {},
   "outputs": [
    {
     "name": "stderr",
     "output_type": "stream",
     "text": [
      "/usr/local/stow/python-3.6/lib/python3.6/site-packages/ipykernel_launcher.py:25: VisibleDeprecationWarning: Creating an ndarray from ragged nested sequences (which is a list-or-tuple of lists-or-tuples-or ndarrays with different lengths or shapes) is deprecated. If you meant to do this, you must specify 'dtype=object' when creating the ndarray\n"
     ]
    },
    {
     "data": {
      "image/png": "[encoded data removed]",
      "text/plain": [
       "<Figure size 432x288 with 2 Axes>"
      ]
     },
     "metadata": {
      "needs_background": "light"
     },
     "output_type": "display_data"
    }
   ],
   "source": [
    "plot_fig2(mean_s, lower_s, upper_s)"
   ]
  },
  {
   "cell_type": "code",
   "execution_count": 54,
   "metadata": {},
   "outputs": [
    {
     "data": {
      "text/plain": [
       "array([[1.        , 0.92527133],\n",
       "       [0.92527133, 1.        ]])"
      ]
     },
     "execution_count": 54,
     "metadata": {},
     "output_type": "execute_result"
    }
   ],
   "source": [
    "np.corrcoef(mean_t, mean_s)"
   ]
  },
  {
   "cell_type": "markdown",
   "metadata": {},
   "source": [
    "### Figure3"
   ]
  },
  {
   "cell_type": "code",
   "execution_count": 19,
   "metadata": {},
   "outputs": [],
   "source": [
    "def get_sample(i):\n",
    "    len0, len1 = int(i*len(X[treatment==0])), int(i*len(X[treatment==1]))\n",
    "    ind0 = np.random.choice(len(X_0),len0,replace=False)\n",
    "    ind1 = np.random.choice(len(X_1),len1,replace=False)\n",
    "    Xtrain = np.concatenate((X_0[ind0],X_1[ind1]),axis=0)\n",
    "    ytrain = np.concatenate((y_0[ind0],y_1[ind1]),axis=0)\n",
    "    #Xtest = np.concatenate((X_0[np.delete(np.arange(len(X_0)),ind0)],X_1[np.delete(np.arange(len(X_1)),ind1)]),axis=0)\n",
    "    return len0, len1,Xtrain, ytrain"
   ]
  },
  {
   "cell_type": "code",
   "execution_count": 20,
   "metadata": {},
   "outputs": [],
   "source": [
    "def eval(cate,gt):\n",
    "    rmse, variance, bias = [],[],[]\n",
    "    for i in range(len(sample)):\n",
    "        variance.append(np.var(cate[i]))\n",
    "        rmse.append(mean_squared_error(gt[i], cate[i], squared=False))\n",
    "        bias.append(np.sum((cate[i] - ytest)**2) / len(ytest))\n",
    "    return rmse, variance, bias"
   ]
  },
  {
   "cell_type": "code",
   "execution_count": 21,
   "metadata": {},
   "outputs": [],
   "source": [
    "def visualize(r1,v1,b1,r2,v2,b2,r3,v3,b3):\n",
    "    x = 1/1000*len(X)*np.array(sample)\n",
    "    fig, ax = plt.subplots(3, 1, figsize=(12, 8),sharex=True,subplot_kw=dict(frameon=False))\n",
    "    ax[0].plot(x, v2, color=\"green\", marker=\".\", label=\"S-Learner\")\n",
    "    ax[1].plot(x, b2, color=\"green\",marker=\".\",label=\"S-Learner\")\n",
    "    ax[2].plot(x, r2, color=\"green\", marker=\".\", label=\"S-Learner\")\n",
    "    ax[0].plot(x, v1, color=\"grey\", marker=\"^\", label=\"T-Learner\")\n",
    "    ax[1].plot(x, b1, color=\"grey\",marker=\"^\",label=\"T-Learner\")\n",
    "    ax[2].plot(x, r1, color=\"grey\", marker=\"^\", label=\"T-Learner\")\n",
    "    ax[0].plot(x, v3, color=\"blue\", marker=\"|\", label=\"X-Learner\")\n",
    "    ax[1].plot(x, b3, color=\"blue\",marker=\"|\",label=\"X-Learner\")\n",
    "    ax[2].plot(x, r3, color=\"blue\", marker=\"|\", label=\"X-Learner\")\n",
    "    ax[0].legend(bbox_to_anchor=(1.05, 0), loc='upper left', ncol=1)\n",
    "    ax[0].set_ylabel('Average Variance')\n",
    "    ax[1].set_ylabel('Average Bias')\n",
    "    ax[2].set_ylabel('RMSE')\n",
    "    ax[2].set_xlabel('Training Size (in 1000)')\n",
    "    ax[0].grid()\n",
    "    ax[1].grid()\n",
    "    ax[2].grid()\n",
    "    fig.show()"
   ]
  },
  {
   "cell_type": "code",
   "execution_count": 22,
   "metadata": {},
   "outputs": [],
   "source": [
    "def visualize2(r1,v1,b1,r2,v2,b2):\n",
    "    x = 1/1000*len(X)*np.array(sample)\n",
    "    fig, ax = plt.subplots(3, 1, figsize=(12, 8),sharex=True,subplot_kw=dict(frameon=False))\n",
    "    ax[0].plot(x, v2, color=\"green\", marker=\".\", label=\"S-Learner\")\n",
    "    ax[1].plot(x, b2, color=\"green\",marker=\".\",label=\"S-Learner\")\n",
    "    ax[2].plot(x, r2, color=\"green\", marker=\".\", label=\"S-Learner\")\n",
    "    ax[0].plot(x, v1, color=\"grey\", marker=\"^\", label=\"T-Learner\")\n",
    "    ax[1].plot(x, b1, color=\"grey\",marker=\"^\",label=\"T-Learner\")\n",
    "    ax[2].plot(x, r1, color=\"grey\", marker=\"^\", label=\"T-Learner\")\n",
    "    ax[0].legend(bbox_to_anchor=(1.05, 0), loc='upper left', ncol=1)\n",
    "    ax[0].set_ylabel('Average Variance')\n",
    "    ax[1].set_ylabel('Average Bias')\n",
    "    ax[2].set_ylabel('RMSE')\n",
    "    ax[2].set_xlabel('Training Size (in 1000)')\n",
    "    ax[0].grid()\n",
    "    ax[1].grid()\n",
    "    ax[2].grid()\n",
    "    fig.show()"
   ]
  },
  {
   "cell_type": "code",
   "execution_count": 23,
   "metadata": {},
   "outputs": [],
   "source": [
    "idx=np.arange(len(y))\n",
    "random.shuffle(idx)\n",
    "X = X[idx]\n",
    "y = y[idx]\n",
    "treatment = treatment[idx]\n",
    "ratio = len(X[treatment==1])/(len(X[treatment==0])+len(X[treatment==1]))\n",
    "t = 50000\n",
    "b = int(ratio*t)\n",
    "a = t-b\n",
    "Xtest = np.concatenate((X[treatment==0][:a],X[treatment==1][:b]),axis=0)\n",
    "ytest = np.concatenate((y[treatment==0][:a],y[treatment==1][:b]),axis=0)\n",
    "treatment_test = np.array([0]*a+[1]*b)\n",
    "X_0, X_1, y_0,y_1 = X[treatment==0][a:], X[treatment==1][b:], y[treatment==0][a:],y[treatment==1][b:]\n",
    "#X_0, X_1, y_0,y_1 = X[treatment==0], X[treatment==1], y[treatment==0],y[treatment==1]\n",
    "learner_t_gt = BaseTClassifier(learner0=RegressionForest(), learner1=RegressionForest(), type_=1)\n",
    "learner_t_gt.fit(X,y,treatment)\n",
    "sample = [0.001,0.002,0.005,0.008,0.01,0.02,0.05,0.1,0.2,0.3]\n",
    "N = 50"
   ]
  },
  {
   "cell_type": "code",
   "execution_count": null,
   "metadata": {
    "scrolled": false
   },
   "outputs": [],
   "source": [
    "# honest rf\n",
    "s = time.time()\n",
    "cate_t,cate_s,cate_x, gt = [],[],[],[]\n",
    "for i in sample:\n",
    "    len0,len1,Xtrain, ytrain = get_sample(i)\n",
    "    gt_curr,cate_t_curr,cate_s_curr,cate_x_curr = np.tile(0.0,t),np.tile(0.0,t),np.tile(0.0,t),np.tile(0.0,t)\n",
    "    for j in range(N):\n",
    "        gt_curr += learner_t_gt.get_cate2(Xtrain,ytrain,Xtest,len0, len1,0).reshape(-1)\n",
    "        learner_t = BaseTClassifier(learner0=RegressionForest(), learner1=RegressionForest(), type_=1)\n",
    "        cate_t_curr += learner_t.get_cate2(Xtrain,ytrain,Xtest,len0, len1).reshape(-1)\n",
    "        learner_s = BaseSClassifier(learner=RegressionForest(), type_=1)\n",
    "        cate_s_curr += learner_s.get_cate2(Xtrain,ytrain,Xtest,len0, len1).reshape(-1)\n",
    "        learner_x = BaseXClassifier(learner=RegressionForest(), cate_learner=RegressionForest(), type_=1)\n",
    "        cate_x_curr += learner_x.get_cate2(Xtrain,ytrain,Xtest,len0, len1, treatment_test)\n",
    "    cate_t.append(cate_t_curr/N)\n",
    "    cate_s.append(cate_s_curr/N)\n",
    "    cate_x.append(cate_x_curr/N)\n",
    "    gt.append(gt_curr/N)\n",
    "r1,v1,b1 = eval(cate_t,gt)\n",
    "r2,v2,b2 = eval(cate_s,gt)\n",
    "r3,v3,b3 = eval(cate_x,gt)\n",
    "visualize(r1,v1,b1,r2,v2,b2,r3,v3,b3)\n",
    "print(time.time()-s)"
   ]
  },
  {
   "cell_type": "code",
   "execution_count": null,
   "metadata": {},
   "outputs": [],
   "source": [
    "# rf\n",
    "s = time.time()\n",
    "cate_t,cate_s,cate_x, gt = [],[],[],[]\n",
    "for i in sample:\n",
    "    len0,len1,Xtrain, ytrain = get_sample(i)\n",
    "    gt_curr,cate_t_curr,cate_s_curr,cate_x_curr = np.tile(0.0,t),np.tile(0.0,t),np.tile(0.0,t),np.tile(0.0,t)\n",
    "    for j in range(N):\n",
    "        gt_curr += learner_t_gt.get_cate2(Xtrain,ytrain,Xtest,len0, len1,0).reshape(-1)\n",
    "        learner_t = BaseTClassifier(learner0=RandomForestClassifier(), learner1=RandomForestClassifier())\n",
    "        cate_t_curr += learner_t.get_cate2(Xtrain,ytrain,Xtest,len0, len1).reshape(-1)\n",
    "        learner_s = BaseSClassifier(learner=RandomForestClassifier())\n",
    "        cate_s_curr += learner_s.get_cate2(Xtrain,ytrain,Xtest,len0, len1).reshape(-1)\n",
    "        learner_x =BaseXClassifier(learner=RandomForestClassifier(), cate_learner=RandomForestRegressor(), prospensity_learner=RandomForestClassifier())\n",
    "        cate_x_curr += learner_x.get_cate2(Xtrain,ytrain,Xtest,len0, len1, treatment_test)\n",
    "    cate_t.append(cate_t_curr/N)\n",
    "    cate_s.append(cate_s_curr/N)\n",
    "    cate_x.append(cate_x_curr/N)\n",
    "    gt.append(gt_curr/N)\n",
    "r1,v1,b1 = eval(cate_t,gt)\n",
    "r2,v2,b2 = eval(cate_s,gt)\n",
    "r3,v3,b3 = eval(cate_x,gt)\n",
    "visualize(r1,v1,b1,r2,v2,b2,r3,v3,b3)\n",
    "print(time.time()-s)"
   ]
  },
  {
   "cell_type": "code",
   "execution_count": null,
   "metadata": {},
   "outputs": [],
   "source": [
    "# lr\n",
    "cate_t,cate_s,cate_x, gt = [],[],[],[]\n",
    "for i in sample:\n",
    "    len0, len1 = int(i*len(X[treatment==0])), int(i*len(X[treatment==1]))\n",
    "    ind0 = np.random.choice(len(X_0),len0,replace=False)\n",
    "    ind1 = np.random.choice(len(X_1),len1,replace=False)\n",
    "    Xtrain = np.concatenate((X_0[ind0],X_1[ind1]),axis=0)\n",
    "    ytrain = np.concatenate((y_0[ind0],y_1[ind1]),axis=0)\n",
    "    #Xtest = np.concatenate((X_0[np.delete(np.arange(len(X_0)),ind0)],X_1[np.delete(np.arange(len(X_1)),ind1)]),axis=0)\n",
    "    gt.append(learner_t_gt.get_cate2(Xtrain,ytrain,Xtest,len0, len1,0).reshape(-1))\n",
    "    learner_t = BaseTClassifier(learner0=LogisticRegression(max_iter=150), learner1=LogisticRegression(max_iter=150), type_=1)\n",
    "    cate_t.append(learner_t.get_cate2(Xtrain,ytrain,Xtest,len0, len1).reshape(-1))\n",
    "    learner_s = BaseSClassifier(learner=LogisticRegression(max_iter=150), type_=1)\n",
    "    cate_s.append(learner_s.get_cate2(Xtrain,ytrain,Xtest,len0, len1).reshape(-1))\n",
    "    learner_x = BaseXClassifier(learner=LogisticRegression(max_iter=150), cate_learner=RandomForestRegressor(), prospensity_learner=LogisticRegression(max_iter=150))\n",
    "    cate_x.append(learner_x.get_cate2(Xtrain,ytrain,Xtest,len0, len1,treatment_test))\n",
    "r1,v1,b1 = eval(cate_t,gt)\n",
    "r2,v2,b2 = eval(cate_s,gt)\n",
    "r3,v3,b3 = eval(cate_x,gt)\n",
    "visualize(r1,v1,b1,r2,v2,b2,r3,v3,b3)"
   ]
  },
  {
   "cell_type": "code",
   "execution_count": 20,
   "metadata": {},
   "outputs": [
    {
     "name": "stderr",
     "output_type": "stream",
     "text": [
      "/usr/local/stow/python-3.6/lib/python3.6/site-packages/sklearn/neural_network/_multilayer_perceptron.py:571: ConvergenceWarning: Stochastic Optimizer: Maximum iterations (200) reached and the optimization hasn't converged yet.\n",
      "  % self.max_iter, ConvergenceWarning)\n",
      "/usr/local/stow/python-3.6/lib/python3.6/site-packages/sklearn/neural_network/_multilayer_perceptron.py:571: ConvergenceWarning: Stochastic Optimizer: Maximum iterations (200) reached and the optimization hasn't converged yet.\n",
      "  % self.max_iter, ConvergenceWarning)\n",
      "/usr/local/stow/python-3.6/lib/python3.6/site-packages/sklearn/neural_network/_multilayer_perceptron.py:571: ConvergenceWarning: Stochastic Optimizer: Maximum iterations (200) reached and the optimization hasn't converged yet.\n",
      "  % self.max_iter, ConvergenceWarning)\n",
      "/usr/local/stow/python-3.6/lib/python3.6/site-packages/sklearn/neural_network/_multilayer_perceptron.py:571: ConvergenceWarning: Stochastic Optimizer: Maximum iterations (200) reached and the optimization hasn't converged yet.\n",
      "  % self.max_iter, ConvergenceWarning)\n",
      "/usr/local/stow/python-3.6/lib/python3.6/site-packages/sklearn/neural_network/_multilayer_perceptron.py:571: ConvergenceWarning: Stochastic Optimizer: Maximum iterations (200) reached and the optimization hasn't converged yet.\n",
      "  % self.max_iter, ConvergenceWarning)\n"
     ]
    },
    {
     "data": {
      "image/png": "[encoded data removed]",
      "text/plain": [
       "<Figure size 864x576 with 3 Axes>"
      ]
     },
     "metadata": {
      "needs_background": "light"
     },
     "output_type": "display_data"
    }
   ],
   "source": [
    "#MLP\n",
    "s = time.time()\n",
    "cate_t,cate_s,cate_x, gt = [],[],[],[]\n",
    "for i in sample:\n",
    "    len0,len1,Xtrain, ytrain = get_sample(i)\n",
    "    gt_curr,cate_t_curr,cate_s_curr,cate_x_curr = np.tile(0.0,t),np.tile(0.0,t),np.tile(0.0,t),np.tile(0.0,t)\n",
    "    for j in range(N):\n",
    "        gt_curr += learner_t_gt.get_cate2(Xtrain,ytrain,Xtest,len0, len1,0).reshape(-1)\n",
    "        learner_t = BaseTClassifier(learner0=MLPClassifier(max_iter=300), learner1=MLPClassifier(max_iter=300), type_=1)\n",
    "        cate_t_curr += learner_t.get_cate2(Xtrain,ytrain,Xtest,len0, len1).reshape(-1)\n",
    "        learner_s = BaseSClassifier(learner=MLPClassifier(max_iter=300), type_=1)\n",
    "        cate_s_curr += learner_s.get_cate2(Xtrain,ytrain,Xtest,len0, len1).reshape(-1)\n",
    "        learner_x = BaseXClassifier(learner=MLPClassifier(max_iter=300), cate_learner=RandomForestRegressor(), prospensity_learner=MLPClassifier(max_iter=300))\n",
    "        cate_x_curr += learner_x.get_cate2(Xtrain,ytrain,Xtest,len0, len1, treatment_test)\n",
    "    cate_t.append(cate_t_curr/N)\n",
    "    cate_s.append(cate_s_curr/N)\n",
    "    cate_x.append(cate_x_curr/N)\n",
    "    gt.append(gt_curr/N)\n",
    "r1,v1,b1 = eval(cate_t,gt)\n",
    "r2,v2,b2 = eval(cate_s,gt)\n",
    "r3,v3,b3 = eval(cate_x,gt)\n",
    "visualize(r1,v1,b1,r2,v2,b2,r3,v3,b3)\n",
    "print(time.time()-s)"
   ]
  },
  {
   "cell_type": "code",
   "execution_count": null,
   "metadata": {},
   "outputs": [],
   "source": [
    "# honest rf (not replace the existing value)\n",
    "s = time.time()\n",
    "cate_t,cate_s,cate_x, gt = [],[],[],[]\n",
    "for i in sample:\n",
    "    len0,len1,Xtrain, ytrain = get_sample(i)\n",
    "    gt_curr,cate_t_curr,cate_s_curr,cate_x_curr = np.tile(0.0,t),np.tile(0.0,t),np.tile(0.0,t),np.tile(0.0,t)\n",
    "    for j in range(N):\n",
    "        gt_curr += learner_t_gt.get_cate_2(Xtrain,ytrain,Xtest,ytest,len0, len1,treatment_test,0).reshape(-1)\n",
    "        learner_t = BaseTClassifier(learner0=RegressionForest(), learner1=RegressionForest(), type_=1)\n",
    "        cate_t_curr += learner_t.get_cate_2(Xtrain,ytrain,Xtest,ytest,len0, len1,treatment_test).reshape(-1)\n",
    "        learner_s = BaseSClassifier(learner=RegressionForest(), type_=1)\n",
    "        cate_s_curr += learner_s.get_cate_2(Xtrain,ytrain,Xtest,ytest,len0, len1,treatment_test).reshape(-1)\n",
    "    cate_t.append(cate_t_curr/N)\n",
    "    cate_s.append(cate_s_curr/N)\n",
    "    gt.append(gt_curr/N)\n",
    "r1,v1,b1 = eval(cate_t,gt)\n",
    "r2,v2,b2 = eval(cate_s,gt)\n",
    "visualize2(r1,v1,b1,r2,v2,b2)\n",
    "print(time.time()-s)"
   ]
  }
 ],
 "metadata": {
  "kernelspec": {
   "display_name": "Python 3",
   "language": "python",
   "name": "python3"
  },
  "language_info": {
   "codemirror_mode": {
    "name": "ipython",
    "version": 3
   },
   "file_extension": ".py",
   "mimetype": "text/x-python",
   "name": "python",
   "nbconvert_exporter": "python",
   "pygments_lexer": "ipython3",
   "version": "3.8.8"
  }
 },
 "nbformat": 4,
 "nbformat_minor": 4
}

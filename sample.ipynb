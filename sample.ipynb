{
 "cells": [
  {
   "cell_type": "code",
   "execution_count": 4,
   "metadata": {},
   "outputs": [],
   "source": [
    "import numpy as np\n",
    "from sklearn.ensemble import RandomForestClassifier\n",
    "from sklearn.ensemble import RandomForestRegressor\n",
    "from sklearn.ensemble import GradientBoostingClassifier\n",
    "from sklearn.neural_network import MLPClassifier\n",
    "from Learners import *"
   ]
  },
  {
   "cell_type": "markdown",
   "metadata": {},
   "source": [
    "### Data"
   ]
  },
  {
   "cell_type": "code",
   "execution_count": 5,
   "metadata": {},
   "outputs": [
    {
     "data": {
      "text/html": [
       "<div>\n",
       "<style scoped>\n",
       "    .dataframe tbody tr th:only-of-type {\n",
       "        vertical-align: middle;\n",
       "    }\n",
       "\n",
       "    .dataframe tbody tr th {\n",
       "        vertical-align: top;\n",
       "    }\n",
       "\n",
       "    .dataframe thead th {\n",
       "        text-align: right;\n",
       "    }\n",
       "</style>\n",
       "<table border=\"1\" class=\"dataframe\">\n",
       "  <thead>\n",
       "    <tr style=\"text-align: right;\">\n",
       "      <th></th>\n",
       "      <th>sex</th>\n",
       "      <th>yob</th>\n",
       "      <th>g2000</th>\n",
       "      <th>g2002</th>\n",
       "      <th>g2004</th>\n",
       "      <th>p2000</th>\n",
       "      <th>p2002</th>\n",
       "      <th>p2004</th>\n",
       "      <th>treatment</th>\n",
       "      <th>cluster</th>\n",
       "      <th>voted</th>\n",
       "      <th>hh_id</th>\n",
       "      <th>hh_size</th>\n",
       "      <th>numberofnames</th>\n",
       "      <th>p2004_mean</th>\n",
       "      <th>g2004_mean</th>\n",
       "    </tr>\n",
       "  </thead>\n",
       "  <tbody>\n",
       "    <tr>\n",
       "      <th>0</th>\n",
       "      <td>male</td>\n",
       "      <td>1941</td>\n",
       "      <td>yes</td>\n",
       "      <td>yes</td>\n",
       "      <td>yes</td>\n",
       "      <td>no</td>\n",
       "      <td>yes</td>\n",
       "      <td>No</td>\n",
       "      <td>Civic Duty</td>\n",
       "      <td>1</td>\n",
       "      <td>No</td>\n",
       "      <td>1.0</td>\n",
       "      <td>2</td>\n",
       "      <td>21</td>\n",
       "      <td>0.095238</td>\n",
       "      <td>0.857143</td>\n",
       "    </tr>\n",
       "    <tr>\n",
       "      <th>1</th>\n",
       "      <td>female</td>\n",
       "      <td>1947</td>\n",
       "      <td>yes</td>\n",
       "      <td>yes</td>\n",
       "      <td>yes</td>\n",
       "      <td>no</td>\n",
       "      <td>yes</td>\n",
       "      <td>No</td>\n",
       "      <td>Civic Duty</td>\n",
       "      <td>1</td>\n",
       "      <td>No</td>\n",
       "      <td>1.0</td>\n",
       "      <td>2</td>\n",
       "      <td>21</td>\n",
       "      <td>0.095238</td>\n",
       "      <td>0.857143</td>\n",
       "    </tr>\n",
       "    <tr>\n",
       "      <th>2</th>\n",
       "      <td>male</td>\n",
       "      <td>1951</td>\n",
       "      <td>yes</td>\n",
       "      <td>yes</td>\n",
       "      <td>yes</td>\n",
       "      <td>no</td>\n",
       "      <td>yes</td>\n",
       "      <td>No</td>\n",
       "      <td>Hawthorne</td>\n",
       "      <td>1</td>\n",
       "      <td>Yes</td>\n",
       "      <td>2.0</td>\n",
       "      <td>3</td>\n",
       "      <td>21</td>\n",
       "      <td>0.047619</td>\n",
       "      <td>0.857143</td>\n",
       "    </tr>\n",
       "    <tr>\n",
       "      <th>3</th>\n",
       "      <td>female</td>\n",
       "      <td>1950</td>\n",
       "      <td>yes</td>\n",
       "      <td>yes</td>\n",
       "      <td>yes</td>\n",
       "      <td>no</td>\n",
       "      <td>yes</td>\n",
       "      <td>No</td>\n",
       "      <td>Hawthorne</td>\n",
       "      <td>1</td>\n",
       "      <td>Yes</td>\n",
       "      <td>2.0</td>\n",
       "      <td>3</td>\n",
       "      <td>21</td>\n",
       "      <td>0.047619</td>\n",
       "      <td>0.857143</td>\n",
       "    </tr>\n",
       "    <tr>\n",
       "      <th>4</th>\n",
       "      <td>female</td>\n",
       "      <td>1982</td>\n",
       "      <td>yes</td>\n",
       "      <td>yes</td>\n",
       "      <td>yes</td>\n",
       "      <td>no</td>\n",
       "      <td>yes</td>\n",
       "      <td>No</td>\n",
       "      <td>Hawthorne</td>\n",
       "      <td>1</td>\n",
       "      <td>Yes</td>\n",
       "      <td>2.0</td>\n",
       "      <td>3</td>\n",
       "      <td>21</td>\n",
       "      <td>0.047619</td>\n",
       "      <td>0.857143</td>\n",
       "    </tr>\n",
       "  </tbody>\n",
       "</table>\n",
       "</div>"
      ],
      "text/plain": [
       "      sex   yob g2000 g2002 g2004 p2000 p2002 p2004    treatment  cluster  \\\n",
       "0    male  1941   yes   yes   yes    no   yes    No   Civic Duty        1   \n",
       "1  female  1947   yes   yes   yes    no   yes    No   Civic Duty        1   \n",
       "2    male  1951   yes   yes   yes    no   yes    No    Hawthorne        1   \n",
       "3  female  1950   yes   yes   yes    no   yes    No    Hawthorne        1   \n",
       "4  female  1982   yes   yes   yes    no   yes    No    Hawthorne        1   \n",
       "\n",
       "  voted  hh_id  hh_size  numberofnames  p2004_mean  g2004_mean  \n",
       "0    No    1.0        2             21    0.095238    0.857143  \n",
       "1    No    1.0        2             21    0.095238    0.857143  \n",
       "2   Yes    2.0        3             21    0.047619    0.857143  \n",
       "3   Yes    2.0        3             21    0.047619    0.857143  \n",
       "4   Yes    2.0        3             21    0.047619    0.857143  "
      ]
     },
     "execution_count": 5,
     "metadata": {},
     "output_type": "execute_result"
    }
   ],
   "source": [
    "import pandas as pd\n",
    "df=pd.read_csv('../data.csv',index_col=False)\n",
    "df.head()"
   ]
  },
  {
   "cell_type": "code",
   "execution_count": 6,
   "metadata": {},
   "outputs": [],
   "source": [
    "df.loc[df['sex']=='male', 'sex']=0\n",
    "df.loc[df['sex']=='female', 'sex']=1\n",
    "df['age']=2019-df['yob']\n",
    "for item in ['g2000','g2002','p2000','p2002','p2004','voted']:\n",
    "    df.loc[df[item]=='yes', item]=1\n",
    "    df.loc[df[item]=='Yes', item]=1\n",
    "    df.loc[df[item]=='no', item]=0\n",
    "    df.loc[df[item]=='No', item]=0"
   ]
  },
  {
   "cell_type": "code",
   "execution_count": 7,
   "metadata": {},
   "outputs": [],
   "source": [
    "df = df[(df['treatment']==' Control') | (df['treatment']==' Neighbors')]\n",
    "df.loc[df['treatment']==' Control', 'treatment']=0\n",
    "df.loc[df['treatment']==' Neighbors', 'treatment']=1"
   ]
  },
  {
   "cell_type": "code",
   "execution_count": 8,
   "metadata": {},
   "outputs": [
    {
     "data": {
      "text/html": [
       "<div>\n",
       "<style scoped>\n",
       "    .dataframe tbody tr th:only-of-type {\n",
       "        vertical-align: middle;\n",
       "    }\n",
       "\n",
       "    .dataframe tbody tr th {\n",
       "        vertical-align: top;\n",
       "    }\n",
       "\n",
       "    .dataframe thead th {\n",
       "        text-align: right;\n",
       "    }\n",
       "</style>\n",
       "<table border=\"1\" class=\"dataframe\">\n",
       "  <thead>\n",
       "    <tr style=\"text-align: right;\">\n",
       "      <th></th>\n",
       "      <th>sex</th>\n",
       "      <th>yob</th>\n",
       "      <th>g2000</th>\n",
       "      <th>g2002</th>\n",
       "      <th>g2004</th>\n",
       "      <th>p2000</th>\n",
       "      <th>p2002</th>\n",
       "      <th>p2004</th>\n",
       "      <th>treatment</th>\n",
       "      <th>cluster</th>\n",
       "      <th>voted</th>\n",
       "      <th>hh_id</th>\n",
       "      <th>hh_size</th>\n",
       "      <th>numberofnames</th>\n",
       "      <th>p2004_mean</th>\n",
       "      <th>g2004_mean</th>\n",
       "      <th>age</th>\n",
       "    </tr>\n",
       "  </thead>\n",
       "  <tbody>\n",
       "    <tr>\n",
       "      <th>5</th>\n",
       "      <td>0</td>\n",
       "      <td>1981</td>\n",
       "      <td>0</td>\n",
       "      <td>0</td>\n",
       "      <td>yes</td>\n",
       "      <td>0</td>\n",
       "      <td>0</td>\n",
       "      <td>0</td>\n",
       "      <td>0</td>\n",
       "      <td>1</td>\n",
       "      <td>0</td>\n",
       "      <td>3.0</td>\n",
       "      <td>3</td>\n",
       "      <td>21</td>\n",
       "      <td>0.047619</td>\n",
       "      <td>0.904762</td>\n",
       "      <td>38</td>\n",
       "    </tr>\n",
       "    <tr>\n",
       "      <th>6</th>\n",
       "      <td>1</td>\n",
       "      <td>1959</td>\n",
       "      <td>1</td>\n",
       "      <td>1</td>\n",
       "      <td>yes</td>\n",
       "      <td>0</td>\n",
       "      <td>1</td>\n",
       "      <td>0</td>\n",
       "      <td>0</td>\n",
       "      <td>1</td>\n",
       "      <td>1</td>\n",
       "      <td>3.0</td>\n",
       "      <td>3</td>\n",
       "      <td>21</td>\n",
       "      <td>0.047619</td>\n",
       "      <td>0.904762</td>\n",
       "      <td>60</td>\n",
       "    </tr>\n",
       "    <tr>\n",
       "      <th>7</th>\n",
       "      <td>0</td>\n",
       "      <td>1956</td>\n",
       "      <td>1</td>\n",
       "      <td>1</td>\n",
       "      <td>yes</td>\n",
       "      <td>0</td>\n",
       "      <td>1</td>\n",
       "      <td>0</td>\n",
       "      <td>0</td>\n",
       "      <td>1</td>\n",
       "      <td>1</td>\n",
       "      <td>3.0</td>\n",
       "      <td>3</td>\n",
       "      <td>21</td>\n",
       "      <td>0.047619</td>\n",
       "      <td>0.904762</td>\n",
       "      <td>63</td>\n",
       "    </tr>\n",
       "    <tr>\n",
       "      <th>8</th>\n",
       "      <td>1</td>\n",
       "      <td>1968</td>\n",
       "      <td>0</td>\n",
       "      <td>0</td>\n",
       "      <td>yes</td>\n",
       "      <td>0</td>\n",
       "      <td>1</td>\n",
       "      <td>0</td>\n",
       "      <td>0</td>\n",
       "      <td>1</td>\n",
       "      <td>0</td>\n",
       "      <td>4.0</td>\n",
       "      <td>2</td>\n",
       "      <td>21</td>\n",
       "      <td>0.047619</td>\n",
       "      <td>0.904762</td>\n",
       "      <td>51</td>\n",
       "    </tr>\n",
       "    <tr>\n",
       "      <th>9</th>\n",
       "      <td>0</td>\n",
       "      <td>1967</td>\n",
       "      <td>1</td>\n",
       "      <td>1</td>\n",
       "      <td>yes</td>\n",
       "      <td>0</td>\n",
       "      <td>1</td>\n",
       "      <td>0</td>\n",
       "      <td>0</td>\n",
       "      <td>1</td>\n",
       "      <td>0</td>\n",
       "      <td>4.0</td>\n",
       "      <td>2</td>\n",
       "      <td>21</td>\n",
       "      <td>0.047619</td>\n",
       "      <td>0.904762</td>\n",
       "      <td>52</td>\n",
       "    </tr>\n",
       "  </tbody>\n",
       "</table>\n",
       "</div>"
      ],
      "text/plain": [
       "  sex   yob g2000 g2002 g2004 p2000 p2002 p2004 treatment  cluster voted  \\\n",
       "5   0  1981     0     0   yes     0     0     0         0        1     0   \n",
       "6   1  1959     1     1   yes     0     1     0         0        1     1   \n",
       "7   0  1956     1     1   yes     0     1     0         0        1     1   \n",
       "8   1  1968     0     0   yes     0     1     0         0        1     0   \n",
       "9   0  1967     1     1   yes     0     1     0         0        1     0   \n",
       "\n",
       "   hh_id  hh_size  numberofnames  p2004_mean  g2004_mean  age  \n",
       "5    3.0        3             21    0.047619    0.904762   38  \n",
       "6    3.0        3             21    0.047619    0.904762   60  \n",
       "7    3.0        3             21    0.047619    0.904762   63  \n",
       "8    4.0        2             21    0.047619    0.904762   51  \n",
       "9    4.0        2             21    0.047619    0.904762   52  "
      ]
     },
     "execution_count": 8,
     "metadata": {},
     "output_type": "execute_result"
    }
   ],
   "source": [
    "df.head()"
   ]
  },
  {
   "cell_type": "code",
   "execution_count": 9,
   "metadata": {},
   "outputs": [],
   "source": [
    "X=np.array(df[['sex','age','g2000','g2002','p2000','p2002','p2004']], dtype=np.int)\n",
    "y=np.array(df['voted'],dtype=np.int)\n",
    "treatment=np.array(df['treatment'],dtype=np.int)"
   ]
  },
  {
   "cell_type": "code",
   "execution_count": 10,
   "metadata": {},
   "outputs": [
    {
     "name": "stdout",
     "output_type": "stream",
     "text": [
      "(38201, 7) (191243, 7)\n"
     ]
    }
   ],
   "source": [
    "print(X[treatment==1].shape,X[treatment==0].shape)"
   ]
  },
  {
   "cell_type": "markdown",
   "metadata": {},
   "source": [
    "### Honest RF"
   ]
  },
  {
   "cell_type": "code",
   "execution_count": 11,
   "metadata": {},
   "outputs": [],
   "source": [
    "from econml.grf import RegressionForest"
   ]
  },
  {
   "cell_type": "code",
   "execution_count": 12,
   "metadata": {},
   "outputs": [],
   "source": [
    "# T\n",
    "learner_t = BaseTClassifier(learner0=RegressionForest(), learner1=RegressionForest(), type_=1)\n",
    "cate_t = learner_t.get_cate(X, y, treatment)\n",
    "cate_t=cate_t.reshape(-1)\n",
    "# S\n",
    "learner_s = BaseSClassifier(learner=RegressionForest(), type_=1)\n",
    "cate_s = learner_s.get_cate(X, y, treatment)\n",
    "cate_s=cate_s.reshape(-1)"
   ]
  },
  {
   "cell_type": "code",
   "execution_count": null,
   "metadata": {},
   "outputs": [],
   "source": [
    "# X\n",
    "learner_x = BaseXClassifier(learner=RegressionForest(), cate_learner=RegressionForest(), prospensity_learner=RegressionForest(),type_=1)\n",
    "cate_x = learner_x.get_cate(X,y,treatment,p=0.4)\n",
    "cate_x=cate_x.reshape(-1)"
   ]
  },
  {
   "cell_type": "code",
   "execution_count": 10,
   "metadata": {},
   "outputs": [
    {
     "data": {
      "text/plain": [
       "array([[1.        , 0.92786332],\n",
       "       [0.92786332, 1.        ]])"
      ]
     },
     "execution_count": 10,
     "metadata": {},
     "output_type": "execute_result"
    }
   ],
   "source": [
    "np.corrcoef(cate_t, cate_s)"
   ]
  },
  {
   "cell_type": "code",
   "execution_count": 11,
   "metadata": {},
   "outputs": [
    {
     "data": {
      "text/plain": [
       "array([0.06856818, 0.13311989, 0.03781513, ..., 0.05188794, 0.01830803,\n",
       "       0.0868814 ])"
      ]
     },
     "execution_count": 11,
     "metadata": {},
     "output_type": "execute_result"
    }
   ],
   "source": [
    "cate_t"
   ]
  },
  {
   "cell_type": "code",
   "execution_count": 12,
   "metadata": {},
   "outputs": [
    {
     "data": {
      "text/plain": [
       "array([0.07198149, 0.13006543, 0.07689693, ..., 0.05299774, 0.03228469,\n",
       "       0.08701159])"
      ]
     },
     "execution_count": 12,
     "metadata": {},
     "output_type": "execute_result"
    }
   ],
   "source": [
    "cate_s"
   ]
  },
  {
   "cell_type": "code",
   "execution_count": null,
   "metadata": {},
   "outputs": [],
   "source": [
    "cate_x"
   ]
  },
  {
   "cell_type": "markdown",
   "metadata": {},
   "source": [
    "### RF"
   ]
  },
  {
   "cell_type": "code",
   "execution_count": 9,
   "metadata": {},
   "outputs": [],
   "source": [
    "# T\n",
    "learner_t = BaseTClassifier(learner0=RandomForestClassifier(), learner1=RandomForestClassifier())\n",
    "cate_t = learner_t.get_cate(X, y, treatment)\n",
    "# S\n",
    "learner_s = BaseSClassifier(learner=RandomForestClassifier())\n",
    "cate_s = learner_s.get_cate(X, y, treatment)\n",
    "# X"
   ]
  },
  {
   "cell_type": "code",
   "execution_count": 14,
   "metadata": {},
   "outputs": [],
   "source": [
    "learner_x = BaseXClassifier(learner=RandomForestClassifier(), cate_learner=RandomForestRegressor(), prospensity_learner=RandomForestClassifier())\n",
    "cate_x = learner_x.get_cate(X, y, treatment)"
   ]
  },
  {
   "cell_type": "code",
   "execution_count": 15,
   "metadata": {},
   "outputs": [
    {
     "data": {
      "text/plain": [
       "array([ 0.87017477,  0.30309826,  0.3330472 , ...,  0.65844311,\n",
       "       -0.57013709,  0.29968427])"
      ]
     },
     "execution_count": 15,
     "metadata": {},
     "output_type": "execute_result"
    }
   ],
   "source": [
    "cate_x"
   ]
  },
  {
   "cell_type": "code",
   "execution_count": 10,
   "metadata": {},
   "outputs": [
    {
     "data": {
      "text/plain": [
       "array([0.06949067, 0.15446101, 0.05590717, ..., 0.10598052, 0.06348216,\n",
       "       0.04662858])"
      ]
     },
     "execution_count": 10,
     "metadata": {},
     "output_type": "execute_result"
    }
   ],
   "source": [
    "cate_t"
   ]
  },
  {
   "cell_type": "code",
   "execution_count": 11,
   "metadata": {},
   "outputs": [
    {
     "data": {
      "text/plain": [
       "array([0.06649312, 0.15259589, 0.06178408, ..., 0.08760933, 0.04656123,\n",
       "       0.06462179])"
      ]
     },
     "execution_count": 11,
     "metadata": {},
     "output_type": "execute_result"
    }
   ],
   "source": [
    "cate_s"
   ]
  },
  {
   "cell_type": "code",
   "execution_count": 12,
   "metadata": {},
   "outputs": [
    {
     "data": {
      "text/plain": [
       "array([[1.        , 0.98916606],\n",
       "       [0.98916606, 1.        ]])"
      ]
     },
     "execution_count": 12,
     "metadata": {},
     "output_type": "execute_result"
    }
   ],
   "source": [
    "np.corrcoef(cate_t, cate_s)"
   ]
  },
  {
   "cell_type": "code",
   "execution_count": null,
   "metadata": {},
   "outputs": [],
   "source": []
  }
 ],
 "metadata": {
  "kernelspec": {
   "display_name": "Python 3",
   "language": "python",
   "name": "python3"
  },
  "language_info": {
   "codemirror_mode": {
    "name": "ipython",
    "version": 3
   },
   "file_extension": ".py",
   "mimetype": "text/x-python",
   "name": "python",
   "nbconvert_exporter": "python",
   "pygments_lexer": "ipython3",
   "version": "3.7.6"
  }
 },
 "nbformat": 4,
 "nbformat_minor": 4
}

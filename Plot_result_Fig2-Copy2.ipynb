{
 "cells": [
  {
   "cell_type": "code",
   "execution_count": 1,
   "metadata": {},
   "outputs": [],
   "source": [
    "import numpy as np\n",
    "from sklearn.ensemble import RandomForestClassifier\n",
    "from sklearn.ensemble import GradientBoostingClassifier\n",
    "from sklearn.ensemble import RandomForestRegressor\n",
    "from sklearn.linear_model import LogisticRegression\n",
    "from sklearn.neural_network import MLPClassifier\n",
    "from Learners import *\n",
    "from econml.grf import RegressionForest\n",
    "from sklearn.metrics import mean_squared_error\n",
    "import matplotlib.pyplot as plt\n",
    "import pandas as pd\n",
    "\n",
    "from sklearn.linear_model import LinearRegression\n",
    "import statsmodels.api as sm\n",
    "from xgboost import XGBRegressor\n",
    "\n",
    "from causalml.inference.meta import BaseXClassifier, BaseSClassifier, BaseTClassifier\n",
    "#from causalml.inference.meta import XGBTRegressor, MLPTRegressor\n",
    "#from causalml.inference.meta import BaseXRegressor, BaseRRegressor, BaseSRegressor, BaseTRegressor\n",
    "#from causalml.match import NearestNeighborMatch, MatchOptimizer, create_table_one\n",
    "#from causalml.propensity import ElasticNetPropensityModel"
   ]
  },
  {
   "cell_type": "markdown",
   "metadata": {},
   "source": [
    "## Data"
   ]
  },
  {
   "cell_type": "code",
   "execution_count": 2,
   "metadata": {},
   "outputs": [
    {
     "name": "stdout",
     "output_type": "stream",
     "text": [
      "(38201, 7) (191243, 7)\n"
     ]
    }
   ],
   "source": [
    "import pandas as pd\n",
    "df=pd.read_csv('data.csv',index_col=False)\n",
    "df.loc[df['sex']=='male', 'sex']=0\n",
    "df.loc[df['sex']=='female', 'sex']=1\n",
    "df['age']=2019-df['yob']\n",
    "for item in ['g2000','g2002','p2000','p2002','p2004','voted']:\n",
    "    df.loc[df[item]=='yes', item]=1\n",
    "    df.loc[df[item]=='Yes', item]=1\n",
    "    df.loc[df[item]=='no', item]=0\n",
    "    df.loc[df[item]=='No', item]=0\n",
    "df = df[(df['treatment']==' Control') | (df['treatment']==' Neighbors')]\n",
    "df.loc[df['treatment']==' Control', 'treatment']=0\n",
    "df.loc[df['treatment']==' Neighbors', 'treatment']=1\n",
    "X=np.array(df[['sex','age','g2000','g2002','p2000','p2002','p2004']], dtype=np.int)\n",
    "y=np.array(df['voted'],dtype=np.int)\n",
    "treatment=np.array(df['treatment'],dtype=np.int)\n",
    "print(X[treatment==1].shape,X[treatment==0].shape)"
   ]
  },
  {
   "cell_type": "code",
   "execution_count": null,
   "metadata": {},
   "outputs": [
    {
     "name": "stderr",
     "output_type": "stream",
     "text": [
      " 36%|███▌      | 356/1000 [1:57:18<7:28:19, 41.77s/it]    "
     ]
    }
   ],
   "source": [
    "# T Learner\n",
    "learner_t = BaseTClassifier(learner=RandomForestClassifier())\n",
    "cate_t, lower_t, upper_t = learner_t.fit_predict(X=X, treatment=treatment, y=y,return_ci=True)"
   ]
  },
  {
   "cell_type": "code",
   "execution_count": null,
   "metadata": {},
   "outputs": [
    {
     "name": "stderr",
     "output_type": "stream",
     "text": [
      "  4%|▍         | 42/1000 [06:19<3:00:30, 11.31s/it]"
     ]
    }
   ],
   "source": [
    "# S Learner\n",
    "learner_s = BaseSClassifier(learner=RandomForestClassifier())\n",
    "cate_s, lower_s, upper_s = learner_s.fit_predict(X=X, treatment=treatment, y=y,return_ci=True)"
   ]
  },
  {
   "cell_type": "code",
   "execution_count": 3,
   "metadata": {},
   "outputs": [
    {
     "name": "stderr",
     "output_type": "stream",
     "text": [
      "100%|██████████| 1000/1000 [11:52:50<00:00, 42.77s/it]    \n"
     ]
    }
   ],
   "source": [
    "# X Learner\n",
    "learner_x = BaseXClassifier(outcome_learner=RandomForestClassifier(),effect_learner=RandomForestRegressor())\n",
    "cate_x, lower_x, upper_x = learner_x.fit_predict(X=X, treatment=treatment, y=y,return_ci=True)"
   ]
  },
  {
   "cell_type": "code",
   "execution_count": 24,
   "metadata": {},
   "outputs": [
    {
     "data": {
      "text/plain": [
       "True"
      ]
     },
     "execution_count": 24,
     "metadata": {},
     "output_type": "execute_result"
    }
   ],
   "source": [
    "df['group']=df['g2000']+df['g2002']+df['p2000']+df['p2002']+df['p2004']\n",
    "df = df.reset_index()\n",
    "g0idx = df.loc[df['group']==0].index\n",
    "g1idx = df.loc[df['group']==1].index\n",
    "g2idx = df.loc[df['group']==2].index\n",
    "g3idx = df.loc[df['group']==3].index\n",
    "g4idx = df.loc[df['group']==4].index\n",
    "g5idx = df.loc[df['group']==5].index\n",
    "len(g5idx)+len(g4idx)+len(g3idx)+len(g2idx)+len(g1idx)+len(g0idx)==len(X)"
   ]
  },
  {
   "cell_type": "code",
   "execution_count": 34,
   "metadata": {},
   "outputs": [],
   "source": [
    "def plot_fig2(cate, lower, upper):\n",
    "    #Find  the percentage of voters for which the predicted CATE is significantly positive\n",
    "    pos = [len([ele for ele in lower[g0idx] if ele > 0]) / len(g0idx),\n",
    "           len([ele for ele in lower[g1idx] if ele > 0]) / len(g1idx),\n",
    "           len([ele for ele in lower[g2idx] if ele > 0]) / len(g2idx),\n",
    "           len([ele for ele in lower[g3idx] if ele > 0]) / len(g3idx),\n",
    "           len([ele for ele in lower[g4idx] if ele > 0]) / len(g4idx),\n",
    "           len([ele for ele in lower[g5idx] if ele > 0]) / len(g5idx)]\n",
    "    #Find  the percentage of voters for which the predicted CATE is significantly negative\n",
    "    neg = [-len([ele for ele in upper[g0idx] if ele < 0]) / len(g0idx),\n",
    "           -len([ele for ele in upper[g1idx] if ele < 0]) / len(g1idx),\n",
    "           -len([ele for ele in upper[g2idx] if ele < 0]) / len(g2idx),\n",
    "           -len([ele for ele in upper[g3idx] if ele < 0]) / len(g3idx),\n",
    "           -len([ele for ele in upper[g4idx]if ele < 0]) / len(g4idx),\n",
    "           -len([ele for ele in upper[g5idx] if ele < 0]) / len(g5idx)]\n",
    "    #The width of each group is proportional to the size of the group\n",
    "    sizes=[len(g0idx),len(g1idx),len(g2idx),len(g3idx),len(g4idx),len(g5idx)]\n",
    "    fig, ax = plt.subplots(2)\n",
    "    ax[0].set_ylabel('Voter Proportion')\n",
    "    ax[1].set_ylabel('CATE')\n",
    "    ax[1].set_xlabel('Cumulative Voting History')\n",
    "    #ax[1].set_xticks(np.arange(6))\n",
    "    ax[0].bar(np.arange(6),pos, width=sizes/np.sum(sizes)*2, color='b', bottom=[0,0,0,0,0,0])\n",
    "    ax[0].bar(np.arange(6),neg, width=sizes/np.sum(sizes)*2, color='r')\n",
    "    ax[1].boxplot(np.array([cate[g0idx],cate[g1idx],cate[g2idx],cate[g3idx],cate[g4idx],cate[g5idx]]),showfliers=False,widths=sizes/np.sum(sizes)*2)\n",
    "    ax[0].axhline(y=0.0, color='black', linestyle='-')\n",
    "    ax[1].axhline(y=0.0, color='black', linestyle='-')"
   ]
  },
  {
   "cell_type": "code",
   "execution_count": 35,
   "metadata": {},
   "outputs": [
    {
     "data": {
      "image/png": "[encoded data removed]",
      "text/plain": [
       "<Figure size 432x288 with 2 Axes>"
      ]
     },
     "metadata": {},
     "output_type": "display_data"
    }
   ],
   "source": [
    "plot_fig2(cate_x, lower_x, upper_x)"
   ]
  },
  {
   "cell_type": "code",
   "execution_count": 32,
   "metadata": {},
   "outputs": [
    {
     "ename": "AttributeError",
     "evalue": "'list' object has no attribute 'shape'",
     "output_type": "error",
     "traceback": [
      "\u001b[1;31m---------------------------------------------------------------------------\u001b[0m",
      "\u001b[1;31mAttributeError\u001b[0m                            Traceback (most recent call last)",
      "\u001b[1;32m<ipython-input-32-af5df50afb82>\u001b[0m in \u001b[0;36m<module>\u001b[1;34m\u001b[0m\n\u001b[1;32m----> 1\u001b[1;33m \u001b[1;33m[\u001b[0m\u001b[0mcate_x\u001b[0m\u001b[1;33m[\u001b[0m\u001b[0mg0idx\u001b[0m\u001b[1;33m]\u001b[0m\u001b[1;33m,\u001b[0m\u001b[0mcate_x\u001b[0m\u001b[1;33m[\u001b[0m\u001b[0mg1idx\u001b[0m\u001b[1;33m]\u001b[0m\u001b[1;33m,\u001b[0m\u001b[0mcate_x\u001b[0m\u001b[1;33m[\u001b[0m\u001b[0mg2idx\u001b[0m\u001b[1;33m]\u001b[0m\u001b[1;33m,\u001b[0m\u001b[0mcate_x\u001b[0m\u001b[1;33m[\u001b[0m\u001b[0mg3idx\u001b[0m\u001b[1;33m]\u001b[0m\u001b[1;33m,\u001b[0m\u001b[0mcate_x\u001b[0m\u001b[1;33m[\u001b[0m\u001b[0mg4idx\u001b[0m\u001b[1;33m]\u001b[0m\u001b[1;33m,\u001b[0m\u001b[0mcate_x\u001b[0m\u001b[1;33m[\u001b[0m\u001b[0mg5idx\u001b[0m\u001b[1;33m]\u001b[0m\u001b[1;33m]\u001b[0m\u001b[1;33m.\u001b[0m\u001b[0mshape\u001b[0m\u001b[1;33m\u001b[0m\u001b[1;33m\u001b[0m\u001b[0m\n\u001b[0m",
      "\u001b[1;31mAttributeError\u001b[0m: 'list' object has no attribute 'shape'"
     ]
    }
   ],
   "source": [
    "high = cate_x[]"
   ]
  },
  {
   "cell_type": "code",
   "execution_count": 123,
   "metadata": {},
   "outputs": [
    {
     "data": {
      "text/plain": [
       "<matplotlib.lines.Line2D at 0x2262a9dbe08>"
      ]
     },
     "execution_count": 123,
     "metadata": {},
     "output_type": "execute_result"
    },
    {
     "data": {
      "image/png": "[encoded data removed]",
      "text/plain": [
       "<Figure size 432x288 with 2 Axes>"
      ]
     },
     "metadata": {
      "needs_background": "light"
     },
     "output_type": "display_data"
    }
   ],
   "source": [
    "fig, ax = plt.subplots(2)\n",
    "ax[0].set_ylabel('Voter Proportion')\n",
    "ax[1].set_ylabel('CATE')\n",
    "ax[1].set_xlabel('Cumulative Voting History')\n",
    "#ax[1].set_xticks(np.arange(6))\n",
    "ax[0].bar(np.arange(6),pos, width=sizes/np.sum(sizes)*2, color='b', bottom=[0,0,0,0,0,0])\n",
    "ax[0].bar(np.arange(6),neg, width=sizes/np.sum(sizes)*2, color='r')\n",
    "ax[1].boxplot([g0,g1,g2,g3,g4,g5],showfliers=False,widths=sizes/np.sum(sizes)*2)\n",
    "ax[0].axhline(y=0.0, color='black', linestyle='-')\n",
    "ax[1].axhline(y=0.0, color='black', linestyle='-')"
   ]
  },
  {
   "cell_type": "code",
   "execution_count": null,
   "metadata": {},
   "outputs": [],
   "source": []
  }
 ],
 "metadata": {
  "kernelspec": {
   "display_name": "Python 3",
   "language": "python",
   "name": "python3"
  },
  "language_info": {
   "codemirror_mode": {
    "name": "ipython",
    "version": 3
   },
   "file_extension": ".py",
   "mimetype": "text/x-python",
   "name": "python",
   "nbconvert_exporter": "python",
   "pygments_lexer": "ipython3",
   "version": "3.7.6"
  }
 },
 "nbformat": 4,
 "nbformat_minor": 2
}
